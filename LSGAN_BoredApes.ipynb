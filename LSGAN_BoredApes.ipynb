{
  "nbformat": 4,
  "nbformat_minor": 0,
  "metadata": {
    "colab": {
      "provenance": [],
      "gpuType": "T4"
    },
    "kernelspec": {
      "name": "python3",
      "display_name": "Python 3"
    },
    "language_info": {
      "name": "python"
    },
    "accelerator": "GPU",
    "gpuClass": "standard"
  },
  "cells": [
    {
      "cell_type": "markdown",
      "source": [
        "#GAN MONKEY, THAT FUNKY MONKEY"
      ],
      "metadata": {
        "id": "xIcUGL9C2vTG"
      }
    },
    {
      "cell_type": "markdown",
      "source": [
        "<img src=\"https://media.newyorker.com/photos/61016c1c7a2a603b3075c7b8/master/w_2560%2Cc_limit/chayka-boredapeclub.jpg\">"
      ],
      "metadata": {
        "id": "vbxNETwYQgT7"
      }
    },
    {
      "cell_type": "markdown",
      "source": [
        "##Generative Adversarial Network (GAN)"
      ],
      "metadata": {
        "id": "_L4W1PQaQ0ZZ"
      }
    },
    {
      "cell_type": "markdown",
      "source": [
        "GAN's are a type of neural network architecture which uses 2 seperate networks to generate some kind of data, whether that be images or text. These 2 networks are called the Discriminator and the Generator. "
      ],
      "metadata": {
        "id": "UPo7UtjlQ2o_"
      }
    },
    {
      "cell_type": "markdown",
      "source": [
        "<img src=\"https://www.researchgate.net/publication/349182009/figure/fig2/AS:1021198364327941@1620484071612/Typical-Generative-Adversarial-Networks-GAN-architecture.png\">"
      ],
      "metadata": {
        "id": "MMLmv6QXSSxE"
      }
    },
    {
      "cell_type": "markdown",
      "source": [
        "###Generator"
      ],
      "metadata": {
        "id": "Cweedy57Sgsi"
      }
    },
    {
      "cell_type": "markdown",
      "source": [
        "The generator, which you may be able to tell by the name, is what creates the data from learned patterns. If you are familiar with auto-encoder architecture like with seq2seq for example, you know that the goal of those models is to take some kind of data such as a sentence and turn it into a 1d vector representation in the latent space. What this essentially means is that the patterns from the data are getting turned into a single number representation. Now imagine this the other way around, where instead of taking n-dimensional data and turning it into 1-dimensional data we take 1-dimenstional data and expand it into n-dimensional data. By pairing this idea with a network trained for this and random noise as the input, we can create new random data. But how do we train a model."
      ],
      "metadata": {
        "id": "OnApLwuvSiPT"
      }
    },
    {
      "cell_type": "markdown",
      "source": [
        "###Discriminator"
      ],
      "metadata": {
        "id": "lbeceCMRR5y6"
      }
    },
    {
      "cell_type": "markdown",
      "source": [
        "The discriminators job in this architecture is to help train the generator. First the generator creates data from random noise, and the data is mixed in with real data. This data is then given to the discriminator which will discern which data is real and fake and compute an error, which is used to train both the generator and discriminator. "
      ],
      "metadata": {
        "id": "jTbZTlUiR8x4"
      }
    },
    {
      "cell_type": "markdown",
      "source": [
        "##GAN Stability "
      ],
      "metadata": {
        "id": "GTw2DIbBUfY_"
      }
    },
    {
      "cell_type": "markdown",
      "source": [
        "The 2 network architecture which makes GANs so special is also what makes them unstable. The 2 networks in a GAN have to be trained evenly. What I mean by this is that if the Discriminator at any point begins outperforming the Generator, the Generator will constantly have a high error and will not learn. If the Generator outperforms the Discriminator, it will always have a low error and will not learn. This is what makes GANs very finicky to work with.\n",
        "\n",
        "On top of this GANs still have all of the same issues as the networks that they are built with such as exploding/vanishing gradient."
      ],
      "metadata": {
        "id": "2iczS8d0UiY0"
      }
    },
    {
      "cell_type": "markdown",
      "source": [
        "##Loss Functions"
      ],
      "metadata": {
        "id": "XFO1xA3IVtJ6"
      }
    },
    {
      "cell_type": "markdown",
      "source": [
        "Loss functions in GANs can make a huge difference. That is why there are so many different types of GANs. Let's talk about some of them."
      ],
      "metadata": {
        "id": "1B2odU6WVu-U"
      }
    },
    {
      "cell_type": "markdown",
      "source": [
        "###WGAN (Wasserstein Loss Function)"
      ],
      "metadata": {
        "id": "3_yYeBxUWU69"
      }
    },
    {
      "cell_type": "markdown",
      "source": [
        "Wasserstein loss function aims to fix some of the problems that come from using a regular cross_entropy_loss() GAN. Regular GAN's have big issues with vanishing gradients. To stabilize the GAN wasserstein aims to increase the gap between scores for the real and fake images to prevent. If you ever run into problems of your GAN not training, or performance collapsing after n amount of epochs, then try using a WGAN."
      ],
      "metadata": {
        "id": "JpwiSCgGWp-x"
      }
    },
    {
      "cell_type": "markdown",
      "source": [
        "##LSGAN (Least Squares Loss Function)"
      ],
      "metadata": {
        "id": "4hnCxURqZE0k"
      }
    },
    {
      "cell_type": "markdown",
      "source": [
        "Least Squares aims to do the same thing by using the MSE loss function. This is the one that we will be using in this workshop. It is much easier to impliment than the WGAN and performs pretty well."
      ],
      "metadata": {
        "id": "apsVTThFZQcS"
      }
    },
    {
      "cell_type": "markdown",
      "source": [
        "##Prepare Data"
      ],
      "metadata": {
        "id": "dlAyXL3P_bTi"
      }
    },
    {
      "cell_type": "code",
      "source": [
        "import tensorflow as tf\n",
        "from tensorflow.data.experimental import AUTOTUNE\n",
        "import glob\n",
        "import imageio\n",
        "import matplotlib.pyplot as plt\n",
        "import numpy as np\n",
        "import os\n",
        "import PIL\n",
        "from tensorflow.keras import layers\n",
        "import time\n",
        "from IPython import display"
      ],
      "metadata": {
        "id": "WudKBRAfQSBQ"
      },
      "execution_count": null,
      "outputs": []
    },
    {
      "cell_type": "markdown",
      "source": [
        "This is just a work around if you get a problem where the git repo doesn't update. Simply remove the files and try again."
      ],
      "metadata": {
        "id": "OQkyAMWE_2W5"
      }
    },
    {
      "cell_type": "code",
      "source": [
        "!rm -r NFT_GAN"
      ],
      "metadata": {
        "id": "-wof2dURgtCH"
      },
      "execution_count": null,
      "outputs": []
    },
    {
      "cell_type": "markdown",
      "source": [
        "The important data in the repo is the images. We will be using 2000 images of bored_apes. Note that there are no labels, this is because we won't be classifying or making predictions based on images but generating images and classifying whether an image is real or fake."
      ],
      "metadata": {
        "id": "RvGZldYyAC-5"
      }
    },
    {
      "cell_type": "code",
      "source": [
        "!git clone https://github.com/utkML/NFT_GAN.git"
      ],
      "metadata": {
        "colab": {
          "base_uri": "https://localhost:8080/"
        },
        "id": "dEZFm1eOfQ0u",
        "outputId": "37e1040f-9507-42ff-e9f5-8417988f3614"
      },
      "execution_count": null,
      "outputs": [
        {
          "output_type": "stream",
          "name": "stdout",
          "text": [
            "Cloning into 'NFT_GAN'...\n",
            "remote: Enumerating objects: 4020, done.\u001b[K\n",
            "remote: Counting objects: 100% (2011/2011), done.\u001b[K\n",
            "remote: Compressing objects: 100% (2010/2010), done.\u001b[K\n",
            "remote: Total 4020 (delta 1), reused 2010 (delta 0), pack-reused 2009\u001b[K\n",
            "Receiving objects: 100% (4020/4020), 115.93 MiB | 23.24 MiB/s, done.\n",
            "Resolving deltas: 100% (1/1), done.\n"
          ]
        }
      ]
    },
    {
      "cell_type": "code",
      "source": [
        "BATCH_SIZE = 64\n",
        "IMAGE_SIZE = 128  # reduce this to increase performance\n",
        "IMAGE_CHANNELS = 3  # can be 3 (RGB) or 1 (Grayscale)\n",
        "LATENT_SPACE_DIM = 100  # dimensions of the latent space that is used to generate the images"
      ],
      "metadata": {
        "id": "mXp8wQIrePj5"
      },
      "execution_count": null,
      "outputs": []
    },
    {
      "cell_type": "code",
      "source": [
        "train_url = '/content/NFT_GAN/NFT_dataset'"
      ],
      "metadata": {
        "id": "moL9D-OofZuW"
      },
      "execution_count": null,
      "outputs": []
    },
    {
      "cell_type": "markdown",
      "source": [
        "Unfortunately we can't use the tensorflow import library to import images as a dataset because it will be imported as a tensorflow dataset object. We don't want this since it is difficult to setup with the GAN. Instead we can import the images manually and turn them into a numpy array. This will make it much easier to manage the array shapes of our images."
      ],
      "metadata": {
        "id": "TAzHj7ibD6ci"
      }
    },
    {
      "cell_type": "code",
      "source": [
        "IMAGE_SIZE = 256\n",
        "assert IMAGE_SIZE % 4 == 0\n",
        "\n",
        "\n",
        "def preprocess(file_path):\n",
        "    # load the raw data from the file as a string\n",
        "    img = tf.io.read_file(file_path)\n",
        "    img = tf.image.decode_jpeg(img, channels=IMAGE_CHANNELS)\n",
        "    img = tf.image.resize(img, [IMAGE_SIZE, IMAGE_SIZE])\n",
        "    # scale between [-1,1]\n",
        "    img = (img - 127.5) / 127.5\n",
        "    return img\n",
        "\n",
        "\n",
        "def filter(img):\n",
        "    return img[0, 0, 0] == -1  # discard white bg images (estimate by the R channel of the top left pixel)\n",
        "\n",
        "\n",
        "def configure_for_performance(ds):\n",
        "    ds = ds.cache()\n",
        "    ds = ds.filter(filter)\n",
        "    ds = ds.shuffle(buffer_size=1000)\n",
        "    ds = ds.batch(BATCH_SIZE)\n",
        "    ds = ds.prefetch(buffer_size=AUTOTUNE)\n",
        "    return ds\n",
        "\n",
        "\n",
        "list_ds = tf.data.Dataset.list_files(str('/content/NFT_GAN/NFT_dataset/*/*'), shuffle=True)  # Get all images from subfolders\n",
        "train_dataset = list_ds.take(-1)\n",
        "# Set `num_parallel_calls` so multiple images are loaded/processed in parallel.\n",
        "train_dataset = train_dataset.map(preprocess, num_parallel_calls=AUTOTUNE)\n",
        "train_dataset = configure_for_performance(train_dataset)\n"
      ],
      "metadata": {
        "id": "Keaod1L45Nkp"
      },
      "execution_count": null,
      "outputs": []
    },
    {
      "cell_type": "markdown",
      "source": [
        "##Build GAN"
      ],
      "metadata": {
        "id": "ePHhEvbaGijV"
      }
    },
    {
      "cell_type": "markdown",
      "source": [
        "Now that we have our data, we can start constructing our gan. Remember that our GAN is made of 2 different neural networks a generator, and a discriminator. Since we are using a GAN to perform on images we will be using CNN architecture in both networks."
      ],
      "metadata": {
        "id": "9rAAErXHGkKl"
      }
    },
    {
      "cell_type": "markdown",
      "source": [
        "Our generator will take in random noise from a latent space. Then we will upscale it using a feature map. This is essentially a normal CNN but in reverse. To do this upscaling we will use the Conv2D transpose layers. This learns a featuremap over time and upscales it to create an image. Everything else is pretty standard for a network."
      ],
      "metadata": {
        "id": "CeMwvaO0HXgQ"
      }
    },
    {
      "cell_type": "code",
      "source": [
        "def make_generator_model():\n",
        "    model = tf.keras.Sequential()\n",
        "    \n",
        "    n = IMAGE_SIZE // 4\n",
        "    \n",
        "    model.add(layers.Dense(n * n * 256, use_bias=False, input_shape=(LATENT_SPACE_DIM,)))\n",
        "    model.add(layers.BatchNormalization())\n",
        "    model.add(layers.LeakyReLU())\n",
        "\n",
        "    model.add(layers.Reshape((n, n, 256)))\n",
        "\n",
        "    model.add(layers.Conv2DTranspose(128, (5, 5), strides=(1, 1), padding='same', use_bias=False))\n",
        "    model.add(layers.BatchNormalization())\n",
        "    model.add(layers.LeakyReLU())\n",
        "\n",
        "    model.add(layers.Conv2DTranspose(64, (5, 5), strides=(2, 2), padding='same', use_bias=False))\n",
        "    model.add(layers.BatchNormalization())\n",
        "    model.add(layers.LeakyReLU())\n",
        "\n",
        "    model.add(layers.Conv2DTranspose(IMAGE_CHANNELS, (5, 5), strides=(2, 2), padding='same', use_bias=False, activation='tanh'))\n",
        "\n",
        "    return model"
      ],
      "metadata": {
        "id": "5o7k6mzAcvrC"
      },
      "execution_count": null,
      "outputs": []
    },
    {
      "cell_type": "markdown",
      "source": [
        "Our descriminator model is a basic CNN. Think back to when we classified Chihuahuas and Muffins. Instead here we will be classifying a fake vs real image."
      ],
      "metadata": {
        "id": "dUrjcK60JW4h"
      }
    },
    {
      "cell_type": "code",
      "source": [
        "def make_discriminator_model():\n",
        "    model = tf.keras.Sequential()\n",
        "    model.add(layers.Conv2D(64, (5, 5), strides=(2, 2), padding='same', input_shape=(IMAGE_SIZE, IMAGE_SIZE, IMAGE_CHANNELS)))\n",
        "    model.add(layers.LeakyReLU())\n",
        "    model.add(layers.Dropout(0.3))\n",
        "\n",
        "    model.add(layers.Conv2D(128, (5, 5), strides=(2, 2), padding='same'))\n",
        "    model.add(layers.LeakyReLU())\n",
        "    model.add(layers.Dropout(0.3))\n",
        "\n",
        "    model.add(layers.Flatten())\n",
        "    model.add(layers.Dense(1))\n",
        "\n",
        "    return model\n",
        "\n"
      ],
      "metadata": {
        "id": "LLHzhYcTd5Kj"
      },
      "execution_count": null,
      "outputs": []
    },
    {
      "cell_type": "markdown",
      "source": [
        "Now similar to other networks we have made we will be using a basic Adam optimizer and will then build our networks by calling the functions we created earlier."
      ],
      "metadata": {
        "id": "x4aTb-xJJxmv"
      }
    },
    {
      "cell_type": "code",
      "source": [
        "generator_optimizer = tf.keras.optimizers.Adam(1e-4)\n",
        "discriminator_optimizer = tf.keras.optimizers.Adam(1e-4)\n",
        "\n",
        "discriminator = make_discriminator_model()\n",
        "generator = make_generator_model()"
      ],
      "metadata": {
        "id": "CRooEe0MeBSK"
      },
      "execution_count": null,
      "outputs": []
    },
    {
      "cell_type": "markdown",
      "source": [
        "This is the part that seperates an LSGAN from other GANs. Here we will setup the MSE loss function as opposed to a BinaryCrossentropy loss function. This should improve how our model performs."
      ],
      "metadata": {
        "id": "U5RQR9ZAKHCi"
      }
    },
    {
      "cell_type": "code",
      "source": [
        "from tensorflow.keras.losses import MeanSquaredError\n",
        "MSE = MeanSquaredError()\n",
        "\n",
        "def discriminator_loss(real_output, fake_output):\n",
        "    real_loss = MSE(tf.ones_like(real_output), real_output)\n",
        "    fake_loss = MSE(tf.zeros_like(fake_output), fake_output)\n",
        "    total_loss = real_loss + fake_loss\n",
        "    return total_loss\n",
        "\n",
        "def generator_loss(fake_output):\n",
        "    return MSE(tf.ones_like(fake_output), fake_output)\n",
        "\n"
      ],
      "metadata": {
        "id": "5jHCdeddetX5"
      },
      "execution_count": null,
      "outputs": []
    },
    {
      "cell_type": "markdown",
      "source": [
        "Now we need to define how the models will train. We cannot simply call a train function because we have 2 networks working in tandem. So we will need to write a few functions to control both."
      ],
      "metadata": {
        "id": "aAyBaKtZKXOW"
      }
    },
    {
      "cell_type": "code",
      "source": [
        "@tf.function\n",
        "def train_step(images):\n",
        "    noise = tf.random.normal([BATCH_SIZE, LATENT_SPACE_DIM])\n",
        "\n",
        "    with tf.GradientTape() as gen_tape, tf.GradientTape() as disc_tape:\n",
        "        generated_images = generator(noise, training=True)\n",
        "\n",
        "        real_output = discriminator(images, training=True)\n",
        "        fake_output = discriminator(generated_images, training=True)\n",
        "\n",
        "        gen_loss = generator_loss(fake_output)\n",
        "        disc_loss = discriminator_loss(real_output, fake_output)\n",
        "\n",
        "        gradients_of_generator = gen_tape.gradient(gen_loss, generator.trainable_variables)\n",
        "        gradients_of_discriminator = disc_tape.gradient(disc_loss, discriminator.trainable_variables)\n",
        "\n",
        "        generator_optimizer.apply_gradients(zip(gradients_of_generator, generator.trainable_variables))\n",
        "        discriminator_optimizer.apply_gradients(zip(gradients_of_discriminator, discriminator.trainable_variables))\n",
        "\n"
      ],
      "metadata": {
        "id": "yYUtMwNneM07"
      },
      "execution_count": null,
      "outputs": []
    },
    {
      "cell_type": "markdown",
      "source": [
        "To view how our model is training we can generate a number of images every n amount of epochs, using our currently training generator."
      ],
      "metadata": {
        "id": "5QFZgMRALw92"
      }
    },
    {
      "cell_type": "code",
      "source": [
        "def generate_and_save_images(model, epoch, test_input):\n",
        "    # Notice `training` is set to False.\n",
        "    # This is so all layers run in inference mode (batchnorm).\n",
        "    predictions = model(test_input, training=False)\n",
        "\n",
        "    fig = plt.figure(figsize=(10, 10))\n",
        "\n",
        "    for i in range(predictions.shape[0]):\n",
        "        plt.subplot(4, 4, i + 1)\n",
        "        if predictions.shape[-1] == 3:\n",
        "            plt.imshow(predictions[i] * 0.5 + .5)\n",
        "        else: \n",
        "            plt.imshow(predictions[i, :, :, 0] * 0.5 + .5, cmap='gray')\n",
        "        plt.axis('off')\n",
        "    plt.suptitle(f'Epoch {epoch}')\n",
        "    plt.savefig('images/image_at_epoch_{:04d}.png'.format(epoch))\n",
        "    plt.show()\n",
        "\n"
      ],
      "metadata": {
        "id": "cAScJxCre3RO"
      },
      "execution_count": null,
      "outputs": []
    },
    {
      "cell_type": "markdown",
      "source": [
        "Now we can create a train function. In it we will call our train_step every epoch to update our model."
      ],
      "metadata": {
        "id": "F4Xeuj_daTPr"
      }
    },
    {
      "cell_type": "code",
      "source": [
        "num_examples_to_generate = 16\n",
        "seed = tf.random.normal([num_examples_to_generate, LATENT_SPACE_DIM])\n",
        "\n",
        "def train(dataset, epochs, save_after):\n",
        "    \n",
        "    generate_and_save_images(generator, 0, seed)\n",
        "    \n",
        "    for epoch in range(epochs):\n",
        "        for image_batch in dataset:\n",
        "            train_step(image_batch)\n",
        "\n",
        "        if (epoch + 1) % save_after == 0:\n",
        "            display.clear_output(wait=True)\n",
        "            generate_and_save_images(generator,\n",
        "                             epoch + 1,\n",
        "                             seed)\n",
        "\n",
        "    display.clear_output(wait=True)\n",
        "    generate_and_save_images(generator,\n",
        "                       epochs,\n",
        "                       seed)"
      ],
      "metadata": {
        "id": "j9-Bp2URev7p"
      },
      "execution_count": null,
      "outputs": []
    },
    {
      "cell_type": "code",
      "source": [
        "!mkdir images"
      ],
      "metadata": {
        "colab": {
          "base_uri": "https://localhost:8080/"
        },
        "id": "YDQi4IfsGemG",
        "outputId": "10c3aa69-0578-40b1-92fb-26bd4fdf892a"
      },
      "execution_count": null,
      "outputs": [
        {
          "output_type": "stream",
          "name": "stdout",
          "text": [
            "mkdir: cannot create directory ‘images’: File exists\n"
          ]
        }
      ]
    },
    {
      "cell_type": "code",
      "source": [
        "train(train_dataset, epochs=1000, save_after=10)"
      ],
      "metadata": {
        "colab": {
          "base_uri": "https://localhost:8080/",
          "height": 907
        },
        "id": "Ly2Y1z7he8yL",
        "outputId": "d3942683-3c9a-4d98-fc60-7cbfc4447d2b"
      },
      "execution_count": null,
      "outputs": [
        {
          "output_type": "display_data",
          "data": {
            "text/plain": [
              "<Figure size 1000x1000 with 16 Axes>"
            ],
            "image/png": "[encoded data removed]"
          },
          "metadata": {}
        }
      ]
    },
    {
      "cell_type": "markdown",
      "source": [
        "The code below is used to turn our images into a GIF. I don't know too much about these image libraries so I got this from StackOverflow. Thank you StackOverflow."
      ],
      "metadata": {
        "id": "0HjbIuoZadoi"
      }
    },
    {
      "cell_type": "code",
      "source": [
        "import glob\n",
        "import contextlib\n",
        "from PIL import Image\n",
        "from IPython.display import Image as IMAGE\n",
        "\n",
        "# filepaths\n",
        "fp_in = \"/content/images/*\"\n",
        "fp_out = \"ganimation.gif\"\n",
        "\n",
        "# use exit stack to automatically close opened images\n",
        "with contextlib.ExitStack() as stack:\n",
        "\n",
        "    # lazily load images\n",
        "    imgs = (stack.enter_context(Image.open(f))\n",
        "            for f in sorted(glob.glob(fp_in)))\n",
        "\n",
        "    # extract  first image from iterator\n",
        "    img = next(imgs)\n",
        "\n",
        "    # https://pillow.readthedocs.io/en/stable/handbook/image-file-formats.html#gif\n",
        "    img.save(fp=fp_out, format='GIF', append_images=imgs,\n",
        "             save_all=True, duration=200, loop=0)"
      ],
      "metadata": {
        "id": "_teTElm59Cbz"
      },
      "execution_count": null,
      "outputs": []
    },
    {
      "cell_type": "code",
      "source": [
        "IMAGE(open('ganimation.gif','rb').read())"
      ],
      "metadata": {
        "id": "XXzsu38g9c18"
      },
      "execution_count": null,
      "outputs": []
    }
  ]
}